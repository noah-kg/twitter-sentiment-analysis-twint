{
 "cells": [
  {
   "cell_type": "code",
   "execution_count": 286,
   "id": "1a6d0cb4-0f96-4466-b492-cf6d91e857f0",
   "metadata": {
    "execution": {
     "iopub.execute_input": "2022-05-18T02:28:07.226602Z",
     "iopub.status.busy": "2022-05-18T02:28:07.226602Z",
     "iopub.status.idle": "2022-05-18T02:28:07.295688Z",
     "shell.execute_reply": "2022-05-18T02:28:07.295688Z",
     "shell.execute_reply.started": "2022-05-18T02:28:07.226602Z"
    },
    "tags": []
   },
   "outputs": [],
   "source": [
    "import pandas as pd\n",
    "import matplotlib.pyplot as plt\n",
    "import nltk\n",
    "import re\n",
    "import os\n",
    "import twint\n",
    "import nest_asyncio\n",
    "\n",
    "from nltk.corpus import stopwords\n",
    "from nltk.tokenize import RegexpTokenizer\n",
    "from nltk.stem import WordNetLemmatizer\n",
    "from string import ascii_letters, digits\n",
    "from textblob import TextBlob\n",
    "from datetime import timedelta, date\n",
    "from glob import glob\n",
    "from wordcloud import WordCloud\n",
    "\n",
    "#required to use twint!\n",
    "nest_asyncio.apply()\n",
    "\n",
    "#get path to project directory\n",
    "DATA_DIR = os.path.join(\n",
    "    os.path.dirname(os.path.realpath(\"__file__\"))\n",
    ")\n",
    "\n",
    "TWEET_FILE = os.path.join(DATA_DIR, \"test_tweets.csv\")\n",
    "TODAY = date.today().strftime(\"%Y-%m-%d\")"
   ]
  },
  {
   "cell_type": "code",
   "execution_count": 2,
   "id": "1d8e0992-3cc2-4c23-a9a4-8d6f22d45bc1",
   "metadata": {
    "execution": {
     "iopub.execute_input": "2022-05-17T22:12:02.407635Z",
     "iopub.status.busy": "2022-05-17T22:12:02.407635Z",
     "iopub.status.idle": "2022-05-17T22:12:02.421306Z",
     "shell.execute_reply": "2022-05-17T22:12:02.421306Z",
     "shell.execute_reply.started": "2022-05-17T22:12:02.407635Z"
    },
    "tags": []
   },
   "outputs": [],
   "source": [
    "#turns URL into clickable link\n",
    "def make_clickable(val):\n",
    "    return f'<a target=\"_blank\" href=\"{val}\">Tweet</a>'\n",
    "\n",
    "#makes sure directory name is nice\n",
    "def clean_name(dirname):\n",
    "    valid = set(ascii_letters + digits)\n",
    "    return ''.join(a for a in dirname if a in valid)\n",
    "\n",
    "#performs twitter scrape\n",
    "def twint_search(keyword, since, until, filename):\n",
    "    c             = twint.Config()\n",
    "    c.Search      = keyword\n",
    "    c.Since       = since\n",
    "    # c.Until       = until\n",
    "    c.Lang        = \"en\"\n",
    "    c.Filter_retweets = True\n",
    "    c.Count       = True\n",
    "    c.Pandas      = True\n",
    "    c.Store_csv   = True\n",
    "    c.Hide_output = True    \n",
    "    c.Output      = filename\n",
    "\n",
    "    try:\n",
    "        twint.run.Search(c)    \n",
    "    except (KeyboardInterrupt, SystemExit):\n",
    "        raise\n",
    "    except:\n",
    "        print(f\"Problem with {since}.\")\n",
    "        \n",
    "#loops through daterange to \"break up\" large scrapes\n",
    "def twint_loop(keyword, since, until=TODAY):\n",
    "    #name directory after keyword (search term)\n",
    "    dirname = clean_name(keyword)\n",
    "    \n",
    "    try:\n",
    "        #create target directory\n",
    "        os.mkdir(dirname)\n",
    "        print(\"Directory\" , dirname ,  \"created!\")\n",
    "    except FileExistsError:\n",
    "        print(\"Directory\" , dirname ,  \"already exists!\")\n",
    "    \n",
    "    daterange = pd.date_range(since, until)\n",
    "    \n",
    "    #goes one day at a time\n",
    "    for start_date in daterange:\n",
    "        since = start_date.strftime(\"%Y-%m-%d\")\n",
    "        until = (start_date + timedelta(days=1)).strftime(\"%Y-%m-%d\")\n",
    "        \n",
    "        csv_name = f'{since}.csv'\n",
    "        csv_name = os.path.join(DATA_DIR, dirname, csv_name)\n",
    "        \n",
    "        print(f'Scraping tweets on {since}...')\n",
    "        twint_search(keyword, since, until, csv_name)\n",
    "    \n",
    "    #list out files\n",
    "    result_files = os.listdir(dirname)\n",
    "    print(f'\\nPRODUCED {len(result_files)} FILES:')\n",
    "    for file in result_files:\n",
    "        print(f' - {file}')\n",
    "        \n",
    "    #returns combined (unfiltered) dataframe\n",
    "    return combine_files(dirname)\n",
    "        \n",
    "def combine_files(dirname):\n",
    "    #gather and concat all generated *.csv files\n",
    "    file_names = glob(os.path.join(dirname,'*.csv'))\n",
    "    dfs = [pd.read_csv(fn) for fn in file_names]\n",
    "    df = pd.DataFrame()\n",
    "    \n",
    "    print('\\nCOMBINING INTO DATAFRAME...')\n",
    "    for scrape in dfs:\n",
    "        df = pd.concat([df, scrape])\n",
    "    print('...DONE!')\n",
    "    \n",
    "    return df\n",
    "\n",
    "def basic_info(df):\n",
    "    print(f'SHAPE BEFORE DUPLICATE REMOVAL: {df.shape}')\n",
    "    data = df[['date', 'time', 'username', 'tweet', 'hashtags', 'link']].copy()\n",
    "    data = data.drop_duplicates(['tweet']) #remove duplicates\n",
    "    print(f'SHAPE AFTER DUPLICATE REMOVAL: {data.shape}\\n')\n",
    "\n",
    "    print(f'{data.info()}\\n')\n",
    "    data.head(5).style.format({'link': make_clickable}).set_properties(subset=['tweet', 'hashtags'], **{'width': '300px'})\n",
    "    return data"
   ]
  },
  {
   "cell_type": "code",
   "execution_count": 3,
   "id": "50cd2354-1bff-4389-9cb3-5c5982569da8",
   "metadata": {
    "execution": {
     "iopub.execute_input": "2022-05-17T22:12:02.422304Z",
     "iopub.status.busy": "2022-05-17T22:12:02.422304Z",
     "iopub.status.idle": "2022-05-17T23:07:57.018446Z",
     "shell.execute_reply": "2022-05-17T23:07:57.018446Z",
     "shell.execute_reply.started": "2022-05-17T22:12:02.422304Z"
    },
    "tags": []
   },
   "outputs": [
    {
     "name": "stdout",
     "output_type": "stream",
     "text": [
      "Directory ActivisionBlizzardORBlizzardORblizzardORDiversitySpaceTool created!\n",
      "Scraping tweets on 2022-05-09...\n",
      "[!] No more data! Scraping will stop now.\n",
      "found 0 deleted tweets in this search.\n",
      "[+] Finished: Successfully collected 37357 Tweets.\n",
      "Scraping tweets on 2022-05-10...\n",
      "[!] No more data! Scraping will stop now.\n",
      "found 0 deleted tweets in this search.\n",
      "[+] Finished: Successfully collected 33887 Tweets.\n",
      "Scraping tweets on 2022-05-11...\n",
      "[!] No more data! Scraping will stop now.\n",
      "found 0 deleted tweets in this search.\n",
      "[+] Finished: Successfully collected 30086 Tweets.\n",
      "Scraping tweets on 2022-05-12...\n",
      "[!] No more data! Scraping will stop now.\n",
      "found 0 deleted tweets in this search.\n",
      "[+] Finished: Successfully collected 26395 Tweets.\n",
      "Scraping tweets on 2022-05-13...\n",
      "[!] No more data! Scraping will stop now.\n",
      "found 0 deleted tweets in this search.\n",
      "[+] Finished: Successfully collected 22657 Tweets.\n",
      "Scraping tweets on 2022-05-14...\n",
      "[!] No more data! Scraping will stop now.\n",
      "found 0 deleted tweets in this search.\n",
      "[+] Finished: Successfully collected 16778 Tweets.\n",
      "Scraping tweets on 2022-05-15...\n",
      "[!] No more data! Scraping will stop now.\n",
      "found 0 deleted tweets in this search.\n",
      "[+] Finished: Successfully collected 11288 Tweets.\n",
      "Scraping tweets on 2022-05-16...\n",
      "[!] No more data! Scraping will stop now.\n",
      "found 0 deleted tweets in this search.\n",
      "[+] Finished: Successfully collected 7317 Tweets.\n",
      "Scraping tweets on 2022-05-17...\n",
      "[!] No more data! Scraping will stop now.\n",
      "found 0 deleted tweets in this search.\n",
      "[+] Finished: Successfully collected 3576 Tweets.\n",
      "\n",
      "PRODUCED 9 FILES:\n",
      " - 2022-05-09.csv\n",
      " - 2022-05-10.csv\n",
      " - 2022-05-11.csv\n",
      " - 2022-05-12.csv\n",
      " - 2022-05-13.csv\n",
      " - 2022-05-14.csv\n",
      " - 2022-05-15.csv\n",
      " - 2022-05-16.csv\n",
      " - 2022-05-17.csv\n"
     ]
    },
    {
     "name": "stderr",
     "output_type": "stream",
     "text": [
      "C:\\Users\\admin\\AppData\\Local\\Temp\\ipykernel_33760\\1229073416.py:68: DtypeWarning: Columns (9) have mixed types. Specify dtype option on import or set low_memory=False.\n",
      "  dfs = [pd.read_csv(fn) for fn in file_names]\n"
     ]
    },
    {
     "name": "stdout",
     "output_type": "stream",
     "text": [
      "\n",
      "COMBINING INTO DATAFRAME...\n",
      "...DONE!\n"
     ]
    }
   ],
   "source": [
    "ActivisionBlizz_df = twint_loop(\"\\\"Activision Blizzard\\\" OR Blizzard OR #blizzard OR \\\"Diversity Space Tool\\\"\", \"2022-05-09\")"
   ]
  },
  {
   "cell_type": "code",
   "execution_count": 262,
   "id": "498dbc59-de71-40cb-be70-8d96f6d28beb",
   "metadata": {
    "execution": {
     "iopub.execute_input": "2022-05-18T01:49:46.519183Z",
     "iopub.status.busy": "2022-05-18T01:49:46.519183Z",
     "iopub.status.idle": "2022-05-18T01:49:46.657583Z",
     "shell.execute_reply": "2022-05-18T01:49:46.657583Z",
     "shell.execute_reply.started": "2022-05-18T01:49:46.519183Z"
    },
    "tags": []
   },
   "outputs": [
    {
     "name": "stdout",
     "output_type": "stream",
     "text": [
      "SHAPE BEFORE DUPLICATE REMOVAL: (179610, 36)\n",
      "SHAPE AFTER DUPLICATE REMOVAL: (35893, 6)\n",
      "\n",
      "<class 'pandas.core.frame.DataFrame'>\n",
      "Int64Index: 35893 entries, 0 to 8\n",
      "Data columns (total 6 columns):\n",
      " #   Column    Non-Null Count  Dtype \n",
      "---  ------    --------------  ----- \n",
      " 0   date      35893 non-null  object\n",
      " 1   time      35893 non-null  object\n",
      " 2   username  35893 non-null  object\n",
      " 3   tweet     35893 non-null  object\n",
      " 4   hashtags  35893 non-null  object\n",
      " 5   link      35893 non-null  object\n",
      "dtypes: object(6)\n",
      "memory usage: 1.9+ MB\n",
      "None\n",
      "\n"
     ]
    }
   ],
   "source": [
    "ActivisionBlizz_data = basic_info(ActivisionBlizz_df)"
   ]
  },
  {
   "cell_type": "code",
   "execution_count": 263,
   "id": "bc6f2716-0272-4331-b5de-85f2225c133b",
   "metadata": {
    "execution": {
     "iopub.execute_input": "2022-05-18T01:49:46.996708Z",
     "iopub.status.busy": "2022-05-18T01:49:46.996708Z",
     "iopub.status.idle": "2022-05-18T01:49:47.002565Z",
     "shell.execute_reply": "2022-05-18T01:49:47.002565Z",
     "shell.execute_reply.started": "2022-05-18T01:49:46.996708Z"
    },
    "tags": []
   },
   "outputs": [
    {
     "data": {
      "text/plain": [
       "2022-05-13    6505\n",
       "2022-05-14    4808\n",
       "2022-05-12    3762\n",
       "2022-05-09    3760\n",
       "2022-05-11    3707\n",
       "2022-05-16    3677\n",
       "2022-05-15    3581\n",
       "2022-05-10    3480\n",
       "2022-05-17    2613\n",
       "Name: date, dtype: int64"
      ]
     },
     "execution_count": 263,
     "metadata": {},
     "output_type": "execute_result"
    }
   ],
   "source": [
    "ActivisionBlizz_data['date'].value_counts()"
   ]
  },
  {
   "cell_type": "code",
   "execution_count": 264,
   "id": "c3e1bdae-e779-4506-bddf-713c1961160e",
   "metadata": {
    "execution": {
     "iopub.execute_input": "2022-05-18T01:49:47.222329Z",
     "iopub.status.busy": "2022-05-18T01:49:47.222329Z",
     "iopub.status.idle": "2022-05-18T01:49:47.287582Z",
     "shell.execute_reply": "2022-05-18T01:49:47.287582Z",
     "shell.execute_reply.started": "2022-05-18T01:49:47.222329Z"
    },
    "tags": []
   },
   "outputs": [
    {
     "data": {
      "image/png": "[encoded data removed]",
      "text/plain": [
       "<Figure size 432x288 with 1 Axes>"
      ]
     },
     "metadata": {},
     "output_type": "display_data"
    }
   ],
   "source": [
    "ActivisionBlizz_data['date'].value_counts().sort_index().plot()\n",
    "plt.xticks(rotation=45)\n",
    "plt.show()"
   ]
  },
  {
   "cell_type": "code",
   "execution_count": 265,
   "id": "77d30ad0-2448-40a5-830b-c7c297c628c6",
   "metadata": {
    "execution": {
     "iopub.execute_input": "2022-05-18T01:49:49.439795Z",
     "iopub.status.busy": "2022-05-18T01:49:49.439795Z",
     "iopub.status.idle": "2022-05-18T01:49:49.664226Z",
     "shell.execute_reply": "2022-05-18T01:49:49.664226Z",
     "shell.execute_reply.started": "2022-05-18T01:49:49.439795Z"
    },
    "tags": []
   },
   "outputs": [
    {
     "data": {
      "text/html": [
       "<div>\n",
       "<style scoped>\n",
       "    .dataframe tbody tr th:only-of-type {\n",
       "        vertical-align: middle;\n",
       "    }\n",
       "\n",
       "    .dataframe tbody tr th {\n",
       "        vertical-align: top;\n",
       "    }\n",
       "\n",
       "    .dataframe thead th {\n",
       "        text-align: right;\n",
       "    }\n",
       "</style>\n",
       "<table border=\"1\" class=\"dataframe\">\n",
       "  <thead>\n",
       "    <tr style=\"text-align: right;\">\n",
       "      <th></th>\n",
       "      <th>date</th>\n",
       "      <th>time</th>\n",
       "      <th>username</th>\n",
       "      <th>tweet</th>\n",
       "      <th>hashtags</th>\n",
       "      <th>link</th>\n",
       "    </tr>\n",
       "  </thead>\n",
       "  <tbody>\n",
       "    <tr>\n",
       "      <th>0</th>\n",
       "      <td>2022-05-17</td>\n",
       "      <td>15:11:55</td>\n",
       "      <td>jameswe42087922</td>\n",
       "      <td>Bitcoin King USA  Its Perfect Europe Asia Sout...</td>\n",
       "      <td>['bitcoin', 'king', 'usa', 'europe', 'asia', '...</td>\n",
       "      <td>https://twitter.com/JamesWe42087922/status/152...</td>\n",
       "    </tr>\n",
       "    <tr>\n",
       "      <th>1</th>\n",
       "      <td>2022-05-17</td>\n",
       "      <td>15:11:12</td>\n",
       "      <td>g33kxinc</td>\n",
       "      <td>Blizzard will show off more ‘Overwatch ’ on Ju...</td>\n",
       "      <td>[]</td>\n",
       "      <td>https://twitter.com/G33KXINC/status/1526686800...</td>\n",
       "    </tr>\n",
       "    <tr>\n",
       "      <th>2</th>\n",
       "      <td>2022-05-17</td>\n",
       "      <td>15:10:39</td>\n",
       "      <td>marsmews</td>\n",
       "      <td>blizzard saw you on junkrat bro, this your f...</td>\n",
       "      <td>[]</td>\n",
       "      <td>https://twitter.com/MarsMews/status/1526686662...</td>\n",
       "    </tr>\n",
       "    <tr>\n",
       "      <th>3</th>\n",
       "      <td>2022-05-17</td>\n",
       "      <td>15:10:18</td>\n",
       "      <td>ph0sphenes_</td>\n",
       "      <td>Ok now they done goofed up, what the frick bli...</td>\n",
       "      <td>[]</td>\n",
       "      <td>https://twitter.com/Ph0sphenes_/status/1526686...</td>\n",
       "    </tr>\n",
       "    <tr>\n",
       "      <th>4</th>\n",
       "      <td>2022-05-17</td>\n",
       "      <td>15:09:58</td>\n",
       "      <td>snwflkblizzard</td>\n",
       "      <td>Probably</td>\n",
       "      <td>[]</td>\n",
       "      <td>https://twitter.com/SnwflkBlizzard/status/1526...</td>\n",
       "    </tr>\n",
       "  </tbody>\n",
       "</table>\n",
       "</div>"
      ],
      "text/plain": [
       "         date      time         username  \\\n",
       "0  2022-05-17  15:11:55  jameswe42087922   \n",
       "1  2022-05-17  15:11:12         g33kxinc   \n",
       "2  2022-05-17  15:10:39         marsmews   \n",
       "3  2022-05-17  15:10:18      ph0sphenes_   \n",
       "4  2022-05-17  15:09:58   snwflkblizzard   \n",
       "\n",
       "                                               tweet  \\\n",
       "0  Bitcoin King USA  Its Perfect Europe Asia Sout...   \n",
       "1  Blizzard will show off more ‘Overwatch ’ on Ju...   \n",
       "2    blizzard saw you on junkrat bro, this your f...   \n",
       "3  Ok now they done goofed up, what the frick bli...   \n",
       "4                                         Probably     \n",
       "\n",
       "                                            hashtags  \\\n",
       "0  ['bitcoin', 'king', 'usa', 'europe', 'asia', '...   \n",
       "1                                                 []   \n",
       "2                                                 []   \n",
       "3                                                 []   \n",
       "4                                                 []   \n",
       "\n",
       "                                                link  \n",
       "0  https://twitter.com/JamesWe42087922/status/152...  \n",
       "1  https://twitter.com/G33KXINC/status/1526686800...  \n",
       "2  https://twitter.com/MarsMews/status/1526686662...  \n",
       "3  https://twitter.com/Ph0sphenes_/status/1526686...  \n",
       "4  https://twitter.com/SnwflkBlizzard/status/1526...  "
      ]
     },
     "execution_count": 265,
     "metadata": {},
     "output_type": "execute_result"
    }
   ],
   "source": [
    "def cleanTweets(text):\n",
    "    text = re.sub(r'@[A-Za-z0–9]+','', text) #remove mentions\n",
    "    text = re.sub(r'[#_\\']','', text) #remove the #, _, and single quotation\n",
    "    text = re.sub(r'[0-9]+', '', text) #remove numbers\n",
    "    text = re.sub(r'RT[\\s]+','', text) #remove the RT\n",
    "    text = re.sub(r'https?:\\/\\/\\S+','', text) #remove hyperlink\n",
    "    return text\n",
    "                  \n",
    "# apply the function\n",
    "ActivisionBlizz_data['tweet'] = ActivisionBlizz_data['tweet'].apply(cleanTweets)\n",
    "ActivisionBlizz_data.head()"
   ]
  },
  {
   "cell_type": "code",
   "execution_count": 266,
   "id": "0a988aae-e00a-4248-9e1b-cb57fed58907",
   "metadata": {
    "execution": {
     "iopub.execute_input": "2022-05-18T01:49:53.159241Z",
     "iopub.status.busy": "2022-05-18T01:49:53.159241Z",
     "iopub.status.idle": "2022-05-18T01:49:53.164716Z",
     "shell.execute_reply": "2022-05-18T01:49:53.164716Z",
     "shell.execute_reply.started": "2022-05-18T01:49:53.159241Z"
    },
    "tags": []
   },
   "outputs": [],
   "source": [
    "st = nltk.PorterStemmer()\n",
    "lm = nltk.WordNetLemmatizer()\n",
    "tk = RegexpTokenizer('\\w+')\n",
    "\n",
    "def remove_stopwords(data):\n",
    "    text = [word for word in data if not word.lower() in stopwords.words('english')]\n",
    "    return text\n",
    "\n",
    "def stemming_on_text(data):\n",
    "    text = [st.stem(word) for word in data]\n",
    "    return text\n",
    "\n",
    "def lemmatizer_on_text(data):\n",
    "    text = [lm.lemmatize(word) for word in data]\n",
    "    return text\n",
    "\n",
    "def get_subjectivity(text):\n",
    "    return TextBlob(text).sentiment.subjectivity\n",
    "\n",
    "def get_polarity(text):\n",
    "    return TextBlob(text).sentiment.polarity\n",
    "\n",
    "def list_to_string(text):\n",
    "    return ' '.join(text)\n",
    "\n",
    "def get_analysis(score):\n",
    "    if score < 0:\n",
    "        return 'Negative'\n",
    "    elif score == 0:\n",
    "        return 'Neutral'\n",
    "    else:\n",
    "        return 'Positive'"
   ]
  },
  {
   "cell_type": "code",
   "execution_count": 267,
   "id": "a4c48044-feb0-4985-8d3f-5adbdf5ac911",
   "metadata": {
    "execution": {
     "iopub.execute_input": "2022-05-18T01:49:55.118102Z",
     "iopub.status.busy": "2022-05-18T01:49:55.118102Z",
     "iopub.status.idle": "2022-05-18T01:51:21.637620Z",
     "shell.execute_reply": "2022-05-18T01:51:21.637620Z",
     "shell.execute_reply.started": "2022-05-18T01:49:55.118102Z"
    },
    "tags": []
   },
   "outputs": [],
   "source": [
    "ActivisionBlizz_data['tweet'] = (ActivisionBlizz_data['tweet'].apply(tk.tokenize)\n",
    "                                 .apply(lambda x: remove_stopwords(x))\n",
    "                                 .apply(lambda x: stemming_on_text(x))\n",
    "                                 .apply(lambda x: lemmatizer_on_text(x))\n",
    "                                 .apply(list_to_string))"
   ]
  },
  {
   "cell_type": "code",
   "execution_count": 268,
   "id": "f3379177-44d9-4265-922e-f2e3269368ae",
   "metadata": {
    "execution": {
     "iopub.execute_input": "2022-05-18T01:51:21.638560Z",
     "iopub.status.busy": "2022-05-18T01:51:21.638560Z",
     "iopub.status.idle": "2022-05-18T01:51:21.645931Z",
     "shell.execute_reply": "2022-05-18T01:51:21.645931Z",
     "shell.execute_reply.started": "2022-05-18T01:51:21.638560Z"
    },
    "tags": []
   },
   "outputs": [
    {
     "data": {
      "text/html": [
       "<div>\n",
       "<style scoped>\n",
       "    .dataframe tbody tr th:only-of-type {\n",
       "        vertical-align: middle;\n",
       "    }\n",
       "\n",
       "    .dataframe tbody tr th {\n",
       "        vertical-align: top;\n",
       "    }\n",
       "\n",
       "    .dataframe thead th {\n",
       "        text-align: right;\n",
       "    }\n",
       "</style>\n",
       "<table border=\"1\" class=\"dataframe\">\n",
       "  <thead>\n",
       "    <tr style=\"text-align: right;\">\n",
       "      <th></th>\n",
       "      <th>date</th>\n",
       "      <th>time</th>\n",
       "      <th>username</th>\n",
       "      <th>tweet</th>\n",
       "      <th>hashtags</th>\n",
       "      <th>link</th>\n",
       "    </tr>\n",
       "  </thead>\n",
       "  <tbody>\n",
       "    <tr>\n",
       "      <th>0</th>\n",
       "      <td>2022-05-17</td>\n",
       "      <td>15:11:55</td>\n",
       "      <td>jameswe42087922</td>\n",
       "      <td>bitcoin king usa perfect europ asia southameri...</td>\n",
       "      <td>['bitcoin', 'king', 'usa', 'europe', 'asia', '...</td>\n",
       "      <td>https://twitter.com/JamesWe42087922/status/152...</td>\n",
       "    </tr>\n",
       "    <tr>\n",
       "      <th>1</th>\n",
       "      <td>2022-05-17</td>\n",
       "      <td>15:11:12</td>\n",
       "      <td>g33kxinc</td>\n",
       "      <td>blizzard show overwatch june th</td>\n",
       "      <td>[]</td>\n",
       "      <td>https://twitter.com/G33KXINC/status/1526686800...</td>\n",
       "    </tr>\n",
       "    <tr>\n",
       "      <th>2</th>\n",
       "      <td>2022-05-17</td>\n",
       "      <td>15:10:39</td>\n",
       "      <td>marsmews</td>\n",
       "      <td>blizzard saw junkrat bro fault</td>\n",
       "      <td>[]</td>\n",
       "      <td>https://twitter.com/MarsMews/status/1526686662...</td>\n",
       "    </tr>\n",
       "    <tr>\n",
       "      <th>3</th>\n",
       "      <td>2022-05-17</td>\n",
       "      <td>15:10:18</td>\n",
       "      <td>ph0sphenes_</td>\n",
       "      <td>ok done goof frick blizzard</td>\n",
       "      <td>[]</td>\n",
       "      <td>https://twitter.com/Ph0sphenes_/status/1526686...</td>\n",
       "    </tr>\n",
       "    <tr>\n",
       "      <th>4</th>\n",
       "      <td>2022-05-17</td>\n",
       "      <td>15:09:58</td>\n",
       "      <td>snwflkblizzard</td>\n",
       "      <td>probabl</td>\n",
       "      <td>[]</td>\n",
       "      <td>https://twitter.com/SnwflkBlizzard/status/1526...</td>\n",
       "    </tr>\n",
       "  </tbody>\n",
       "</table>\n",
       "</div>"
      ],
      "text/plain": [
       "         date      time         username  \\\n",
       "0  2022-05-17  15:11:55  jameswe42087922   \n",
       "1  2022-05-17  15:11:12         g33kxinc   \n",
       "2  2022-05-17  15:10:39         marsmews   \n",
       "3  2022-05-17  15:10:18      ph0sphenes_   \n",
       "4  2022-05-17  15:09:58   snwflkblizzard   \n",
       "\n",
       "                                               tweet  \\\n",
       "0  bitcoin king usa perfect europ asia southameri...   \n",
       "1                    blizzard show overwatch june th   \n",
       "2                     blizzard saw junkrat bro fault   \n",
       "3                        ok done goof frick blizzard   \n",
       "4                                            probabl   \n",
       "\n",
       "                                            hashtags  \\\n",
       "0  ['bitcoin', 'king', 'usa', 'europe', 'asia', '...   \n",
       "1                                                 []   \n",
       "2                                                 []   \n",
       "3                                                 []   \n",
       "4                                                 []   \n",
       "\n",
       "                                                link  \n",
       "0  https://twitter.com/JamesWe42087922/status/152...  \n",
       "1  https://twitter.com/G33KXINC/status/1526686800...  \n",
       "2  https://twitter.com/MarsMews/status/1526686662...  \n",
       "3  https://twitter.com/Ph0sphenes_/status/1526686...  \n",
       "4  https://twitter.com/SnwflkBlizzard/status/1526...  "
      ]
     },
     "execution_count": 268,
     "metadata": {},
     "output_type": "execute_result"
    }
   ],
   "source": [
    "ActivisionBlizz_data.head()"
   ]
  },
  {
   "cell_type": "code",
   "execution_count": 278,
   "id": "a81326c0-0c20-4f78-a320-6ee05cebcb7c",
   "metadata": {
    "execution": {
     "iopub.execute_input": "2022-05-18T02:25:56.588729Z",
     "iopub.status.busy": "2022-05-18T02:25:56.587753Z",
     "iopub.status.idle": "2022-05-18T02:26:04.703578Z",
     "shell.execute_reply": "2022-05-18T02:26:04.703578Z",
     "shell.execute_reply.started": "2022-05-18T02:25:56.588729Z"
    },
    "tags": []
   },
   "outputs": [
    {
     "data": {
      "text/html": [
       "<div>\n",
       "<style scoped>\n",
       "    .dataframe tbody tr th:only-of-type {\n",
       "        vertical-align: middle;\n",
       "    }\n",
       "\n",
       "    .dataframe tbody tr th {\n",
       "        vertical-align: top;\n",
       "    }\n",
       "\n",
       "    .dataframe thead th {\n",
       "        text-align: right;\n",
       "    }\n",
       "</style>\n",
       "<table border=\"1\" class=\"dataframe\">\n",
       "  <thead>\n",
       "    <tr style=\"text-align: right;\">\n",
       "      <th></th>\n",
       "      <th>date</th>\n",
       "      <th>time</th>\n",
       "      <th>tweet</th>\n",
       "      <th>subjectivity</th>\n",
       "      <th>polarity</th>\n",
       "      <th>analysis</th>\n",
       "    </tr>\n",
       "  </thead>\n",
       "  <tbody>\n",
       "    <tr>\n",
       "      <th>0</th>\n",
       "      <td>2022-05-17</td>\n",
       "      <td>15:11:55</td>\n",
       "      <td>bitcoin king usa perfect europ asia southameri...</td>\n",
       "      <td>1.0</td>\n",
       "      <td>1.0</td>\n",
       "      <td>Positive</td>\n",
       "    </tr>\n",
       "    <tr>\n",
       "      <th>1</th>\n",
       "      <td>2022-05-17</td>\n",
       "      <td>15:11:12</td>\n",
       "      <td>blizzard show overwatch june th</td>\n",
       "      <td>0.0</td>\n",
       "      <td>0.0</td>\n",
       "      <td>Neutral</td>\n",
       "    </tr>\n",
       "    <tr>\n",
       "      <th>2</th>\n",
       "      <td>2022-05-17</td>\n",
       "      <td>15:10:39</td>\n",
       "      <td>blizzard saw junkrat bro fault</td>\n",
       "      <td>0.0</td>\n",
       "      <td>0.0</td>\n",
       "      <td>Neutral</td>\n",
       "    </tr>\n",
       "    <tr>\n",
       "      <th>3</th>\n",
       "      <td>2022-05-17</td>\n",
       "      <td>15:10:18</td>\n",
       "      <td>ok done goof frick blizzard</td>\n",
       "      <td>0.5</td>\n",
       "      <td>0.5</td>\n",
       "      <td>Positive</td>\n",
       "    </tr>\n",
       "    <tr>\n",
       "      <th>4</th>\n",
       "      <td>2022-05-17</td>\n",
       "      <td>15:09:58</td>\n",
       "      <td>probabl</td>\n",
       "      <td>0.0</td>\n",
       "      <td>0.0</td>\n",
       "      <td>Neutral</td>\n",
       "    </tr>\n",
       "  </tbody>\n",
       "</table>\n",
       "</div>"
      ],
      "text/plain": [
       "         date      time                                              tweet  \\\n",
       "0  2022-05-17  15:11:55  bitcoin king usa perfect europ asia southameri...   \n",
       "1  2022-05-17  15:11:12                    blizzard show overwatch june th   \n",
       "2  2022-05-17  15:10:39                     blizzard saw junkrat bro fault   \n",
       "3  2022-05-17  15:10:18                        ok done goof frick blizzard   \n",
       "4  2022-05-17  15:09:58                                            probabl   \n",
       "\n",
       "   subjectivity  polarity  analysis  \n",
       "0           1.0       1.0  Positive  \n",
       "1           0.0       0.0   Neutral  \n",
       "2           0.0       0.0   Neutral  \n",
       "3           0.5       0.5  Positive  \n",
       "4           0.0       0.0   Neutral  "
      ]
     },
     "execution_count": 278,
     "metadata": {},
     "output_type": "execute_result"
    }
   ],
   "source": [
    "ActivisionBlizz_data['subjectivity'] = ActivisionBlizz_data['tweet'].apply(get_subjectivity)\n",
    "ActivisionBlizz_data['polarity'] = ActivisionBlizz_data['tweet'].apply(get_polarity)\n",
    "ActivisionBlizz_data['analysis'] = ActivisionBlizz_data['polarity'].apply(get_analysis)\n",
    "sentiment_df = ActivisionBlizz_data[['date', 'time', 'tweet', 'subjectivity', 'polarity', 'analysis']].copy()\n",
    "sentiment_df.head()"
   ]
  },
  {
   "cell_type": "code",
   "execution_count": 281,
   "id": "57526cf0-2cd4-4bf2-bff5-9378acfbcdf5",
   "metadata": {
    "execution": {
     "iopub.execute_input": "2022-05-18T02:26:25.995730Z",
     "iopub.status.busy": "2022-05-18T02:26:25.995730Z",
     "iopub.status.idle": "2022-05-18T02:26:26.012144Z",
     "shell.execute_reply": "2022-05-18T02:26:26.012144Z",
     "shell.execute_reply.started": "2022-05-18T02:26:25.995730Z"
    },
    "tags": []
   },
   "outputs": [],
   "source": [
    "sentiment_df['time'] = pd.to_datetime(sentiment_df['time'])\n",
    "sentiment_df['date'] = pd.to_datetime(sentiment_df['date'])"
   ]
  },
  {
   "cell_type": "code",
   "execution_count": 300,
   "id": "ee643564-6ffc-4f8a-a043-e1fe0ce2e93b",
   "metadata": {
    "execution": {
     "iopub.execute_input": "2022-05-18T02:33:08.006747Z",
     "iopub.status.busy": "2022-05-18T02:33:08.006747Z",
     "iopub.status.idle": "2022-05-18T02:33:08.015287Z",
     "shell.execute_reply": "2022-05-18T02:33:08.015287Z",
     "shell.execute_reply.started": "2022-05-18T02:33:08.006747Z"
    },
    "tags": []
   },
   "outputs": [
    {
     "data": {
      "text/html": [
       "<div>\n",
       "<style scoped>\n",
       "    .dataframe tbody tr th:only-of-type {\n",
       "        vertical-align: middle;\n",
       "    }\n",
       "\n",
       "    .dataframe tbody tr th {\n",
       "        vertical-align: top;\n",
       "    }\n",
       "\n",
       "    .dataframe thead th {\n",
       "        text-align: right;\n",
       "    }\n",
       "</style>\n",
       "<table border=\"1\" class=\"dataframe\">\n",
       "  <thead>\n",
       "    <tr style=\"text-align: right;\">\n",
       "      <th></th>\n",
       "      <th>subjectivity</th>\n",
       "      <th>polarity</th>\n",
       "    </tr>\n",
       "    <tr>\n",
       "      <th>date</th>\n",
       "      <th></th>\n",
       "      <th></th>\n",
       "    </tr>\n",
       "  </thead>\n",
       "  <tbody>\n",
       "    <tr>\n",
       "      <th>2022-05-09</th>\n",
       "      <td>0.225990</td>\n",
       "      <td>0.025603</td>\n",
       "    </tr>\n",
       "    <tr>\n",
       "      <th>2022-05-10</th>\n",
       "      <td>0.214778</td>\n",
       "      <td>0.032800</td>\n",
       "    </tr>\n",
       "    <tr>\n",
       "      <th>2022-05-11</th>\n",
       "      <td>0.227141</td>\n",
       "      <td>0.031748</td>\n",
       "    </tr>\n",
       "    <tr>\n",
       "      <th>2022-05-12</th>\n",
       "      <td>0.209745</td>\n",
       "      <td>0.032199</td>\n",
       "    </tr>\n",
       "    <tr>\n",
       "      <th>2022-05-13</th>\n",
       "      <td>0.277943</td>\n",
       "      <td>0.010276</td>\n",
       "    </tr>\n",
       "    <tr>\n",
       "      <th>2022-05-14</th>\n",
       "      <td>0.247723</td>\n",
       "      <td>0.009027</td>\n",
       "    </tr>\n",
       "    <tr>\n",
       "      <th>2022-05-15</th>\n",
       "      <td>0.211908</td>\n",
       "      <td>0.022362</td>\n",
       "    </tr>\n",
       "    <tr>\n",
       "      <th>2022-05-16</th>\n",
       "      <td>0.197122</td>\n",
       "      <td>0.019630</td>\n",
       "    </tr>\n",
       "    <tr>\n",
       "      <th>2022-05-17</th>\n",
       "      <td>0.208812</td>\n",
       "      <td>0.017685</td>\n",
       "    </tr>\n",
       "  </tbody>\n",
       "</table>\n",
       "</div>"
      ],
      "text/plain": [
       "            subjectivity  polarity\n",
       "date                              \n",
       "2022-05-09      0.225990  0.025603\n",
       "2022-05-10      0.214778  0.032800\n",
       "2022-05-11      0.227141  0.031748\n",
       "2022-05-12      0.209745  0.032199\n",
       "2022-05-13      0.277943  0.010276\n",
       "2022-05-14      0.247723  0.009027\n",
       "2022-05-15      0.211908  0.022362\n",
       "2022-05-16      0.197122  0.019630\n",
       "2022-05-17      0.208812  0.017685"
      ]
     },
     "execution_count": 300,
     "metadata": {},
     "output_type": "execute_result"
    }
   ],
   "source": [
    "sentiment_df.groupby('date').mean()"
   ]
  },
  {
   "cell_type": "code",
   "execution_count": 285,
   "id": "d261972f-cf5b-4415-ac23-3ce1257a060f",
   "metadata": {
    "execution": {
     "iopub.execute_input": "2022-05-18T02:27:00.193257Z",
     "iopub.status.busy": "2022-05-18T02:27:00.193257Z",
     "iopub.status.idle": "2022-05-18T02:27:00.202035Z",
     "shell.execute_reply": "2022-05-18T02:27:00.202035Z",
     "shell.execute_reply.started": "2022-05-18T02:27:00.193257Z"
    },
    "tags": []
   },
   "outputs": [
    {
     "data": {
      "text/plain": [
       "0    15\n",
       "1    15\n",
       "2    15\n",
       "3    15\n",
       "4    15\n",
       "     ..\n",
       "4    16\n",
       "5    16\n",
       "6    16\n",
       "7    16\n",
       "8    16\n",
       "Name: time, Length: 35893, dtype: int64"
      ]
     },
     "execution_count": 285,
     "metadata": {},
     "output_type": "execute_result"
    }
   ],
   "source": [
    "# sentiment_df.iloc[:,1].dt.hour"
   ]
  }
 ],
 "metadata": {
  "kernelspec": {
   "display_name": "Python 3 (ipykernel)",
   "language": "python",
   "name": "python3"
  },
  "language_info": {
   "codemirror_mode": {
    "name": "ipython",
    "version": 3
   },
   "file_extension": ".py",
   "mimetype": "text/x-python",
   "name": "python",
   "nbconvert_exporter": "python",
   "pygments_lexer": "ipython3",
   "version": "3.10.2"
  },
  "widgets": {
   "application/vnd.jupyter.widget-state+json": {
    "state": {},
    "version_major": 2,
    "version_minor": 0
   }
  }
 },
 "nbformat": 4,
 "nbformat_minor": 5
}
